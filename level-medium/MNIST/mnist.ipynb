{
  "cells": [
    {
      "cell_type": "code",
      "execution_count": null,
      "metadata": {
        "id": "UvbcrUThUrX9"
      },
      "outputs": [],
      "source": [
        "# importing required libraries and modules\n",
        "import numpy as np\n",
        "import tensorflow as tf\n",
        "import matplotlib.pyplot as plt\n",
        "from tensorflow.keras.layers import Dense\n",
        "from tensorflow.keras.optimizers import Adam\n",
        "from tensorflow.keras.models import Sequential\n",
        "from tensorflow.keras.activations import linear\n",
        "from tensorflow.keras.losses import SparseCategoricalCrossentropy"
      ]
    },
    {
      "cell_type": "code",
      "execution_count": null,
      "metadata": {
        "colab": {
          "base_uri": "https://localhost:8080/"
        },
        "id": "IFXffpFyYyRE",
        "outputId": "73648bf5-2d16-436b-c0ad-430cf82d7737"
      },
      "outputs": [],
      "source": [
        "# loding dataset\n",
        "(train_images, train_labels), _ = tf.keras.datasets.mnist.load_data()\n",
        "\n",
        "# normalizing data\n",
        "train_labels = train_labels[:50000]\n",
        "train_images = train_images[:50000].reshape(-1, 28 * 28) / 255.0"
      ]
    },
    {
      "cell_type": "code",
      "execution_count": null,
      "metadata": {
        "colab": {
          "base_uri": "https://localhost:8080/",
          "height": 771
        },
        "id": "2jL7oITuZB8y",
        "outputId": "4604644c-d425-443d-d97f-f5dc0dcf5168"
      },
      "outputs": [],
      "source": [
        "# visualizing data\n",
        "m, n = train_images.shape\n",
        "\n",
        "fig, axes = plt.subplots(8,8, figsize=(8,8))\n",
        "fig.tight_layout(pad=0.13,rect=[0, 0.03, 1, 0.91])\n",
        "\n",
        "for i,ax in enumerate(axes.flat):\n",
        "    # Select random indices\n",
        "    random_index = np.random.randint(m)\n",
        "\n",
        "    # Select rows corresponding to the random indices and\n",
        "    # reshape the image\n",
        "    X_random_reshaped = train_images[random_index].reshape((28,28))\n",
        "\n",
        "    # Display the image\n",
        "    ax.imshow(X_random_reshaped, cmap='gray')\n",
        "\n",
        "    # Display the label above the image\n",
        "    ax.set_title(train_labels[random_index])\n",
        "    ax.set_axis_off()\n",
        "    fig.suptitle(\"Label, image\", fontsize=14)"
      ]
    },
    {
      "cell_type": "code",
      "execution_count": null,
      "metadata": {
        "colab": {
          "base_uri": "https://localhost:8080/"
        },
        "id": "RA3wp0FbfCoW",
        "outputId": "7ee7e9d3-f25a-494e-f5eb-3f1741f51a4b"
      },
      "outputs": [],
      "source": [
        "# define your neural network architecture below\n",
        "model = Sequential(\n",
        "    [\n",
        "    ]\n",
        ")\n",
        "\n",
        "model.summary()"
      ]
    },
    {
      "cell_type": "code",
      "execution_count": null,
      "metadata": {
        "colab": {
          "base_uri": "https://localhost:8080/"
        },
        "id": "lLyntRDagLOT",
        "outputId": "139b76b5-ede7-44ff-ebf3-f72b7905c588"
      },
      "outputs": [],
      "source": [
        "# defining the loss function\n",
        "model.compile(\n",
        "    loss = SparseCategoricalCrossentropy(from_logits=True),\n",
        "    optimizer = Adam(learning_rate=0.001),\n",
        ")\n",
        "# training neural network\n",
        "history = model.fit(\n",
        "    train_images,train_labels,\n",
        "    epochs=10\n",
        ")"
      ]
    },
    {
      "cell_type": "code",
      "execution_count": null,
      "metadata": {
        "colab": {
          "base_uri": "https://localhost:8080/",
          "height": 467
        },
        "id": "02unfAM5jD5Z",
        "outputId": "0b6f6fdc-cab7-4116-c331-61e8bfe441b8"
      },
      "outputs": [],
      "source": [
        "# plotting learning curve\n",
        "plt.plot(history.history['loss'], label='loss')\n",
        "plt.xlabel('epoch')\n",
        "plt.ylabel('loss')"
      ]
    },
    {
      "cell_type": "code",
      "execution_count": null,
      "metadata": {
        "colab": {
          "base_uri": "https://localhost:8080/",
          "height": 771
        },
        "id": "C1ErTJL1jfZg",
        "outputId": "2c5c943c-fb92-4b96-c800-9e7bc7689858"
      },
      "outputs": [],
      "source": [
        "# visualizing predections\n",
        "fig, axes = plt.subplots(8,8, figsize=(8,8))\n",
        "fig.tight_layout(pad=0.13,rect=[0, 0.03, 1, 0.91])\n",
        "\n",
        "for i,ax in enumerate(axes.flat):\n",
        "    # Select random indices\n",
        "    random_index = np.random.randint(m)\n",
        "\n",
        "    # Select rows corresponding to the random indices and\n",
        "    # reshape the image\n",
        "    X_random_reshaped = train_images[random_index].reshape((28,28))\n",
        "\n",
        "    # Display the image\n",
        "\n",
        "    ax.imshow(X_random_reshaped, cmap='gray')\n",
        "\n",
        "    # Predict using the Neural Network\n",
        "    prediction = model.predict(train_images[random_index].reshape(1,784), verbose = 0)\n",
        "    prediction_p = tf.nn.softmax(prediction)\n",
        "    p = np.argmax(prediction_p)\n",
        "\n",
        "    # Display the label above the image\n",
        "    ax.set_title(f\"{train_labels[random_index]},{p}\",fontsize=10)\n",
        "    ax.set_axis_off()\n",
        "fig.suptitle(\"Label, Prediction\", fontsize=14)\n",
        "plt.show()"
      ]
    }
  ],
  "metadata": {
    "colab": {
      "provenance": []
    },
    "kernelspec": {
      "display_name": "Python 3",
      "name": "python3"
    },
    "language_info": {
      "name": "python"
    }
  },
  "nbformat": 4,
  "nbformat_minor": 0
}
